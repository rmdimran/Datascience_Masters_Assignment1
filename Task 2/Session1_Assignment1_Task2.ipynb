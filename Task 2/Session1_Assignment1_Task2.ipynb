{
 "cells": [
  {
   "cell_type": "markdown",
   "metadata": {},
   "source": [
    "# SESSION-1 , ASSIGNMENT -1"
   ]
  },
  {
   "cell_type": "markdown",
   "metadata": {},
   "source": [
    "# TASK - 2"
   ]
  },
  {
   "cell_type": "code",
   "execution_count": 3,
   "metadata": {},
   "outputs": [
    {
     "name": "stdout",
     "output_type": "stream",
     "text": [
      "Enter the numbers :23,2324,556,11,-11\n",
      "list of entered numbers is :   ['23', '2324', '556', '11', '-11']\n"
     ]
    }
   ],
   "source": [
    "\"\"\" 1.Write a program which accepts a sequence of comma-separated numbers from console and\n",
    "generate a list.\n",
    "\n",
    "1 accept sequence of comma separated numbers from console\n",
    "2 generate a list\n",
    "\"\"\"\n",
    "\n",
    "\n",
    "x =input(\"Enter the numbers :\")\n",
    "print(\"list of entered numbers is :  \",x.split(','))\n",
    "\n"
   ]
  },
  {
   "cell_type": "code",
   "execution_count": 4,
   "metadata": {},
   "outputs": [
    {
     "name": "stdout",
     "output_type": "stream",
     "text": [
      "\n",
      "* \n",
      "* * \n",
      "* * * \n",
      "* * * * \n",
      "* * * * * \n",
      "* * * * \n",
      "* * * \n",
      "* * \n",
      "* \n"
     ]
    },
    {
     "data": {
      "text/plain": [
       "\" Alternate solution \\n\\n\\nfor i in range(5):\\n        print(i * '* ')\\n\\n\\nfor j in range(5,0,-1):\\n    print( j * '* ') \\n\\n\""
      ]
     },
     "execution_count": 4,
     "metadata": {},
     "output_type": "execute_result"
    }
   ],
   "source": [
    "\"\"\"2. Create the below pattern using nested for loop in Python.\n",
    "\n",
    "*\n",
    "* *\n",
    "* * *\n",
    "* * * *\n",
    "* * * * *\n",
    "* * * *\n",
    "* * *\n",
    "* *\n",
    "*\n",
    "\n",
    "\"\"\"\n",
    "\n",
    "n = 5\n",
    "\n",
    "for i in range ( n ):\n",
    "    for j in range ( i ):\n",
    "        print ( '* ', end=\"\" )\n",
    "    print ( '' )\n",
    "\n",
    "for i in range ( n, 0, -1 ):\n",
    "    for j in range ( i ):\n",
    "        print ( '* ', end=\"\" )\n",
    "    print ( '' )\n",
    "\n",
    "    \n",
    "\"\"\" Alternate solution \n",
    "for i in range(5):\n",
    "        print(i * '* ')\n",
    "\n",
    "\n",
    "for j in range(5,0,-1):\n",
    "    print( j * '* ') \n",
    "\n",
    "\"\"\"\n",
    "    "
   ]
  },
  {
   "cell_type": "code",
   "execution_count": 5,
   "metadata": {},
   "outputs": [
    {
     "name": "stdout",
     "output_type": "stream",
     "text": [
      "Enter the string to be reversed : \n",
      "AcadGild\n",
      "The reversed string is :  dliGdacA\n"
     ]
    }
   ],
   "source": [
    "\"\"\"3. Write a Python program to reverse a word after accepting the input from the user.\n",
    "Sample Output:\n",
    "Input word: AcadGild\n",
    "Output: dilGdacA\"\"\"\n",
    "\n",
    "\n",
    "string1=input('Enter the string to be reversed : \\n')\n",
    "\n",
    "print(\"The reversed string is : \", string1[::-1])"
   ]
  },
  {
   "cell_type": "code",
   "execution_count": 6,
   "metadata": {},
   "outputs": [
    {
     "name": "stdout",
     "output_type": "stream",
     "text": [
      "WE, THE PEOPLE OF INDIA, \n",
      " \t having solemnly resolved to constitute India into a SOVEREIGN,! \n",
      " \t\t SOCIALIST, SECULAR, DEMOCRATIC REPUBLIC \n",
      " \t\t\t and to secure to all its citizens\n"
     ]
    }
   ],
   "source": [
    "\"\"\"4. Write a Python Program to print the given string in the format specified in the sample output.\n",
    "\n",
    "WE, THE PEOPLE OF INDIA, having solemnly resolved to constitute India into a\n",
    "SOVEREIGN, SOCIALIST, SECULAR, DEMOCRATIC REPUBLIC and to secure to all\n",
    "its citizens\n",
    "\n",
    "Sample Output:\n",
    "\n",
    "WE, THE PEOPLE OF INDIA,\n",
    "        having solemnly resolved to constitute India into a SOVEREIGN, !\n",
    "            SOCIALIST, SECULAR, DEMOCRATIC REPUBLIC\n",
    "            and to secure to all its citizens\n",
    "\n",
    "\"\"\"\n",
    "\n",
    "print(\"WE, THE PEOPLE OF INDIA, \\n \\t having solemnly resolved to constitute India into a SOVEREIGN,! \\n \\t\\t SOCIALIST, SECULAR, DEMOCRATIC REPUBLIC \\n \\t\\t\\t and to secure to all its citizens\")\n",
    "\n",
    "\n"
   ]
  },
  {
   "cell_type": "code",
   "execution_count": null,
   "metadata": {},
   "outputs": [],
   "source": []
  }
 ],
 "metadata": {
  "kernelspec": {
   "display_name": "Python 3",
   "language": "python",
   "name": "python3"
  },
  "language_info": {
   "codemirror_mode": {
    "name": "ipython",
    "version": 3
   },
   "file_extension": ".py",
   "mimetype": "text/x-python",
   "name": "python",
   "nbconvert_exporter": "python",
   "pygments_lexer": "ipython3",
   "version": "3.6.5"
  }
 },
 "nbformat": 4,
 "nbformat_minor": 2
}
